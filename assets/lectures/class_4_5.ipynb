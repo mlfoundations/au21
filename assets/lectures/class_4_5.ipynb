{
 "cells": [
  {
   "cell_type": "code",
   "execution_count": 1,
   "id": "1a10a35f-0317-480a-874d-d834ca8ea5b4",
   "metadata": {},
   "outputs": [],
   "source": [
    "import math\n",
    "\n",
    "import matplotlib.pyplot as plt\n",
    "import numpy as np\n",
    "import scipy.stats\n",
    "import statsmodels.stats.proportion"
   ]
  },
  {
   "cell_type": "code",
   "execution_count": 2,
   "id": "fbeb9007-f605-495d-badd-01682284f213",
   "metadata": {},
   "outputs": [],
   "source": [
    "def estimate_coverage(ci_estimator, p, num_samples, num_trials):\n",
    "    num_correct = 0\n",
    "    \n",
    "    for ii in range(num_trials):\n",
    "        samples = scipy.stats.bernoulli.rvs(p, size=num_samples)\n",
    "        \n",
    "        # returns a confidence interval as tuple\n",
    "        ci_hat = ci_estimator(samples)\n",
    "        \n",
    "        if ci_hat[0] <= p and ci_hat[1] >= p:\n",
    "            num_correct += 1\n",
    "    \n",
    "    return num_correct / num_trials\n",
    "\n",
    "\n",
    "def make_markov_estimator(alpha):\n",
    "    def estimator(samples):\n",
    "        p_hat = np.mean(samples)\n",
    "        n = len(samples)\n",
    "        eps = math.sqrt(1.0 / (4 * n * alpha))\n",
    "        return p_hat - eps, p_hat + eps\n",
    "    return estimator\n",
    "\n",
    "\n",
    "def make_hoeffding_estimator(alpha):\n",
    "    def estimator(samples):\n",
    "        p_hat = np.mean(samples)\n",
    "        n = len(samples)\n",
    "        eps = math.sqrt(math.log(2 / alpha) / (2 * n))\n",
    "        return p_hat - eps, p_hat + eps\n",
    "    return estimator\n",
    "\n",
    "\n",
    "def make_clopper_pearson_estimator(alpha):\n",
    "    def estimator(samples):\n",
    "        return statsmodels.stats.proportion.proportion_confint(\n",
    "            np.sum(samples),\n",
    "            len(samples),\n",
    "            alpha=alpha,\n",
    "            method='beta')\n",
    "    return estimator"
   ]
  },
  {
   "cell_type": "code",
   "execution_count": 3,
   "id": "3de893b0-e958-4a54-be15-252e21b54e99",
   "metadata": {},
   "outputs": [
    {
     "data": {
      "text/plain": [
       "array([1, 1, 0, 0, 0, 0, 0, 0, 0, 0])"
      ]
     },
     "execution_count": 3,
     "metadata": {},
     "output_type": "execute_result"
    }
   ],
   "source": [
    "scipy.stats.bernoulli.rvs(0.2, size=10)"
   ]
  },
  {
   "cell_type": "code",
   "execution_count": 4,
   "id": "0e3f7a0d-167f-474b-bdb5-155efb5b0f7d",
   "metadata": {},
   "outputs": [
    {
     "name": "stdout",
     "output_type": "stream",
     "text": [
      "(-0.023606797749978953, 0.423606797749979)\n"
     ]
    }
   ],
   "source": [
    "e = make_markov_estimator(0.05)\n",
    "\n",
    "print(e(scipy.stats.bernoulli.rvs(0.2, size=100)))"
   ]
  },
  {
   "cell_type": "code",
   "execution_count": 5,
   "id": "6cde7fe2-bd14-40a3-b6ce-fa409171277e",
   "metadata": {},
   "outputs": [
    {
     "data": {
      "text/plain": [
       "1.0"
      ]
     },
     "execution_count": 5,
     "metadata": {},
     "output_type": "execute_result"
    }
   ],
   "source": [
    "estimate_coverage(make_markov_estimator(0.01), 0.5, 100, 10000)"
   ]
  },
  {
   "cell_type": "code",
   "execution_count": 6,
   "id": "b350d0b0-e33d-44fc-875a-e26135ba38e7",
   "metadata": {},
   "outputs": [
    {
     "data": {
      "text/plain": [
       "0.9993"
      ]
     },
     "execution_count": 6,
     "metadata": {},
     "output_type": "execute_result"
    }
   ],
   "source": [
    "estimate_coverage(make_hoeffding_estimator(0.01), 0.5, 100, 10000)"
   ]
  },
  {
   "cell_type": "code",
   "execution_count": 7,
   "id": "902b104f-d79c-4ad2-bcb3-8406a7c4ad49",
   "metadata": {},
   "outputs": [
    {
     "name": "stderr",
     "output_type": "stream",
     "text": [
      "/Users/ludo/.pyenv/versions/miniforge3/lib/python3.9/site-packages/scipy/stats/_continuous_distns.py:624: RuntimeWarning: overflow encountered in _beta_ppf\n",
      "  return _boost._beta_ppf(q, a, b)\n",
      "/Users/ludo/.pyenv/versions/miniforge3/lib/python3.9/site-packages/scipy/stats/_continuous_distns.py:621: RuntimeWarning: overflow encountered in _beta_isf\n",
      "  return _boost._beta_isf(x, a, b)\n"
     ]
    },
    {
     "data": {
      "text/plain": [
       "0.9525"
      ]
     },
     "execution_count": 7,
     "metadata": {},
     "output_type": "execute_result"
    }
   ],
   "source": [
    "estimate_coverage(make_clopper_pearson_estimator(0.05), 0.9, 100, 10000)"
   ]
  },
  {
   "cell_type": "code",
   "execution_count": 8,
   "id": "a0b00463-ba9f-4e21-a61a-2f2e8e2a685e",
   "metadata": {},
   "outputs": [
    {
     "name": "stdout",
     "output_type": "stream",
     "text": [
      "[  100   117   137   161   189   221   259   304   356   418   489   574\n",
      "   672   788   924  1083  1269  1487  1743  2043  2395  2807  3290  3857\n",
      "  4520  5298  6210  7279  8532 10000]\n"
     ]
    },
    {
     "data": {
      "image/png": "[encoded data removed]",
      "text/plain": [
       "<Figure size 432x288 with 1 Axes>"
      ]
     },
     "metadata": {
      "needs_background": "light"
     },
     "output_type": "display_data"
    }
   ],
   "source": [
    "n_vals = np.round(np.geomspace(100, 10000, 30)).astype(int)\n",
    "\n",
    "def size_markov(n, alpha):\n",
    "    return 2 * math.sqrt(1.0 / (4 * n * alpha))\n",
    "\n",
    "\n",
    "def size_hoeffding(n, alpha):\n",
    "    return 2 * math.sqrt(math.log(2.0 / alpha) / (2 * n))\n",
    "\n",
    "def size_clopper_pearson(n, alpha):\n",
    "    tmp = statsmodels.stats.proportion.proportion_confint(n // 2, n, alpha=alpha, method='beta')\n",
    "    return tmp[1] - tmp[0]\n",
    "\n",
    "\n",
    "alpha = 0.01\n",
    "print(n_vals)\n",
    "s_m = [size_markov(n, alpha) for n in n_vals]\n",
    "s_h = [size_hoeffding(n, alpha) for n in n_vals]\n",
    "s_c = [size_clopper_pearson(n, alpha) for n in n_vals]\n",
    "\n",
    "\n",
    "plt.figure()\n",
    "plt.grid()\n",
    "#plt.yscale('log')\n",
    "plt.xscale('log')\n",
    "plt.ylabel('CI size')\n",
    "plt.xlabel('Sample size n')\n",
    "plt.plot(n_vals, s_m, label='Markov')\n",
    "plt.plot(n_vals, s_h, label='Hoeffding')\n",
    "plt.plot(n_vals, s_c, label='Clopper-Pearson')\n",
    "plt.legend()\n",
    "plt.show()"
   ]
  },
  {
   "cell_type": "code",
   "execution_count": null,
   "id": "0948556d-3299-486c-a463-ea9b90bd437b",
   "metadata": {},
   "outputs": [],
   "source": []
  }
 ],
 "metadata": {
  "kernelspec": {
   "display_name": "Python 3 (ipykernel)",
   "language": "python",
   "name": "python3"
  },
  "language_info": {
   "codemirror_mode": {
    "name": "ipython",
    "version": 3
   },
   "file_extension": ".py",
   "mimetype": "text/x-python",
   "name": "python",
   "nbconvert_exporter": "python",
   "pygments_lexer": "ipython3",
   "version": "3.9.7"
  }
 },
 "nbformat": 4,
 "nbformat_minor": 5
}
